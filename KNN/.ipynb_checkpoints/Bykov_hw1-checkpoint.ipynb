{
 "cells": [
  {
   "cell_type": "markdown",
   "metadata": {},
   "source": [
    "**Общая информация**\n",
    "\n",
    "**Срок сдачи:** 18 октября 2017, 06:00 <br\\>\n",
    "**Штраф за опоздание:** -2 балла после 06:00 18 октября, -4 балла после 06:00 25 октября, -6 баллов после 06:00 1 ноября\n",
    "\n",
    "При отправлении ДЗ указывайте фамилию в названии файла\n",
    "Присылать ДЗ необходимо в виде ссылки на свой github репозиторий в slack @alkhamush\n",
    "\n",
    "Необходимо в slack создать таск в приватный чат:\n",
    "/todo Фамилия Имя ссылка на гитхаб @alkhamush\n",
    "Пример:\n",
    "/todo Ксения Стройкова https://github.com/stroykova/spheremailru/stroykova_hw1.ipynb @alkhamush\n",
    "Дополнительно нужно просто скинуть ссылку в slack в личный чат\n",
    "\n",
    "Используйте данный Ipython Notebook при оформлении домашнего задания."
   ]
  },
  {
   "cell_type": "markdown",
   "metadata": {},
   "source": [
    "###### Задание 1 (2 баллов)\n",
    "Реализовать KNN в классе MyKNeighborsClassifier (обязательное условие: точность не ниже sklearn реализации)\n",
    "Разберитесь самостоятельно, какая мера расстояния используется в KNeighborsClassifier дефолтно и реализуйте свой алгоритм именно с этой мерой. Самостоятельно разберитесь, как считается score из KNeighborsClassifier и реализуйте аналог в своём классе. Score не должен уступать значению KNN из sklearn\n",
    "\n",
    "###### Задание 2 (2 балла)\n",
    "Добиться скорости работы на fit,  predict и predict_proba сравнимой со sklearn для iris и mnist\n",
    "Для этого используем numpy\n",
    "\n",
    "###### Задание 3 (2 балла)\n",
    "Для iris найдите такой параметр n_neighbors, при котором выдаётся наилучший score. Нарисуйте график зависимости score от n_neighbors\n",
    "\n",
    "###### Задание 4 (3 балла)\n",
    "Добавить algorithm='kd_tree' в реализацию KNN (использовать KDTree из sklearn.neighbors). Значение n_neighbors нужно взять из задания 3. Добиться скорости работы на fit,  predict и predict_proba сравнимой со sklearn для iris и mnist\n",
    "Для этого используем numpy. Score не должен уступать значению KNN из sklearn\n",
    "\n",
    "###### Задание 5 (1 балла)\n",
    "Описать для чего нужны следующие библиотеки/классы/функции (список будет ниже)\n",
    "\n",
    "**Штрафные баллы:**\n",
    "\n",
    "1. Невыполнение PEP8 -1 балл\n",
    "2. Отсутствие фамилии в имени скрипта (скрипт должен называться по аналогии со stroykova_hw1.ipynb) -1 балл\n",
    "3. Все строчки должны быть выполнены. Нужно, чтобы output команды можно было увидеть уже в git'е. В противном случае -1 балл\n",
    "4. При оформлении ДЗ нужно пользоваться данным файлом в качестве шаблона. Не нужно удалять и видоизменять структуру кода и текст. В противном случае -1 балл\n"
   ]
  },
  {
   "cell_type": "code",
   "execution_count": 1,
   "metadata": {},
   "outputs": [],
   "source": [
    "import numpy as np\n",
    "import pandas as pd\n",
    "import matplotlib.pyplot as plt\n",
    "from collections import Counter\n",
    "from sklearn.neighbors import KDTree\n",
    "import sklearn.metrics\n",
    "import seaborn as sns\n",
    "from sklearn import datasets\n",
    "from functools import reduce\n",
    "from sklearn.base import ClassifierMixin\n",
    "from sklearn.datasets import fetch_mldata\n",
    "from sklearn.neighbors.base import NeighborsBase, KNeighborsMixin, SupervisedIntegerMixin \n",
    "from sklearn.model_selection import train_test_split\n",
    "from sklearn.neighbors import KNeighborsClassifier\n",
    "%load_ext pycodestyle_magic"
   ]
  },
  {
   "cell_type": "code",
   "execution_count": 2,
   "metadata": {},
   "outputs": [],
   "source": [
    "#%%pycodestyle\n",
    "\n",
    "\n",
    "class MyKNighborsClassifier(NeighborsBase, KNeighborsMixin,\n",
    "                             SupervisedIntegerMixin, ClassifierMixin):\n",
    "\n",
    "    def __init__(self, n_neighbors, algorithm='brute'):\n",
    "        self.n_neighbors = n_neighbors\n",
    "        self.alg = algorithm\n",
    "\n",
    "    def setneigh(self, n_neighbors):\n",
    "        self.n_neighbors = n_neighbors\n",
    "\n",
    "    def fit(self, X, y):\n",
    "        if self.alg != \"kd_tree\":\n",
    "            self.ar = np.copy(X)\n",
    "            self.ar.astype(np.float64)\n",
    "        else:\n",
    "            self.tree = KDTree(X, metric='euclidean')\n",
    "        self.an = np.copy(y)\n",
    "        self.m = max(y)\n",
    "        self.an.astype(np.uint8)\n",
    "\n",
    "    def algr(self, X):\n",
    "        if self.alg != \"kd_tree\":\n",
    "            dist = sklearn.metrics.pairwise_distances(X, self.ar)\n",
    "            n = np.argpartition(dist, self.n_neighbors)\n",
    "        else:\n",
    "            n = self.tree.query(X, self.n_neighbors, return_distance=False)\n",
    "        self.tblnrcl = self.an[n]\n",
    "\n",
    "    def predict(self, X):\n",
    "        self.algr(X)\n",
    "        self.res = np.zeros(X.shape[0])\n",
    "        for j in range(self.tblnrcl.shape[0]):\n",
    "            t = Counter(self.tblnrcl[j][:self.n_neighbors])\n",
    "            self.res[j] = t.most_common(1)[0][0]\n",
    "        return self.res\n",
    "\n",
    "    def predict_proba(self, X):\n",
    "        prob = np.zeros((X.shape[0], int(self.m+1)))\n",
    "        self.algr(X)\n",
    "        for j in range(self.tblnrcl.shape[0]):\n",
    "            for i in range(int(self.m+1)):\n",
    "                prob[j][i] = Counter(self.tblnrcl[j][:self.n_neighbors])[i]\n",
    "        print(prob/self.n_neighbors)\n",
    "\n",
    "    def score(self, X, y):\n",
    "        tra = 0\n",
    "        self.predict(X)\n",
    "        for i in range(y.shape[0]):\n",
    "            tra += y[i] == self.res[i]\n",
    "        return tra/X.shape[0]"
   ]
  },
  {
   "cell_type": "markdown",
   "metadata": {},
   "source": [
    "**IRIS**"
   ]
  },
  {
   "cell_type": "code",
   "execution_count": 3,
   "metadata": {},
   "outputs": [],
   "source": [
    "iris = datasets.load_iris()"
   ]
  },
  {
   "cell_type": "code",
   "execution_count": 4,
   "metadata": {},
   "outputs": [],
   "source": [
    "X_train, X_test, y_train, y_test = train_test_split(iris.data, iris.target, test_size=0.1, stratify=iris.target)"
   ]
  },
  {
   "cell_type": "code",
   "execution_count": 5,
   "metadata": {},
   "outputs": [],
   "source": [
    "clf = KNeighborsClassifier(n_neighbors=17)\n",
    "my_clf = MyKNeighborsClassifier(n_neighbors=17)"
   ]
  },
  {
   "cell_type": "code",
   "execution_count": 6,
   "metadata": {},
   "outputs": [
    {
     "name": "stdout",
     "output_type": "stream",
     "text": [
      "CPU times: user 2.72 ms, sys: 0 ns, total: 2.72 ms\n",
      "Wall time: 8.17 ms\n"
     ]
    },
    {
     "data": {
      "text/plain": [
       "KNeighborsClassifier(algorithm='auto', leaf_size=30, metric='minkowski',\n",
       "           metric_params=None, n_jobs=1, n_neighbors=17, p=2,\n",
       "           weights='uniform')"
      ]
     },
     "execution_count": 6,
     "metadata": {},
     "output_type": "execute_result"
    }
   ],
   "source": [
    "%time clf.fit(X_train, y_train)"
   ]
  },
  {
   "cell_type": "code",
   "execution_count": 7,
   "metadata": {},
   "outputs": [
    {
     "name": "stdout",
     "output_type": "stream",
     "text": [
      "CPU times: user 156 µs, sys: 34 µs, total: 190 µs\n",
      "Wall time: 143 µs\n"
     ]
    }
   ],
   "source": [
    "%time my_clf.fit(X_train, y_train)"
   ]
  },
  {
   "cell_type": "code",
   "execution_count": 8,
   "metadata": {},
   "outputs": [
    {
     "name": "stdout",
     "output_type": "stream",
     "text": [
      "CPU times: user 1.48 ms, sys: 331 µs, total: 1.81 ms\n",
      "Wall time: 3.22 ms\n"
     ]
    },
    {
     "data": {
      "text/plain": [
       "array([2, 0, 0, 1, 0, 1, 0, 1, 1, 0, 2, 2, 2, 1, 2])"
      ]
     },
     "execution_count": 8,
     "metadata": {},
     "output_type": "execute_result"
    }
   ],
   "source": [
    "%time clf.predict(X_test)"
   ]
  },
  {
   "cell_type": "code",
   "execution_count": 9,
   "metadata": {},
   "outputs": [
    {
     "name": "stdout",
     "output_type": "stream",
     "text": [
      "CPU times: user 423 µs, sys: 15.1 ms, total: 15.5 ms\n",
      "Wall time: 82.1 ms\n"
     ]
    },
    {
     "data": {
      "text/plain": [
       "array([2., 0., 0., 1., 0., 1., 0., 1., 1., 0., 2., 2., 2., 1., 2.])"
      ]
     },
     "execution_count": 9,
     "metadata": {},
     "output_type": "execute_result"
    }
   ],
   "source": [
    "%time my_clf.predict(X_test)"
   ]
  },
  {
   "cell_type": "code",
   "execution_count": 10,
   "metadata": {},
   "outputs": [
    {
     "name": "stdout",
     "output_type": "stream",
     "text": [
      "CPU times: user 2.82 ms, sys: 650 µs, total: 3.46 ms\n",
      "Wall time: 2.52 ms\n"
     ]
    },
    {
     "data": {
      "text/plain": [
       "array([[0.        , 0.        , 1.        ],\n",
       "       [1.        , 0.        , 0.        ],\n",
       "       [1.        , 0.        , 0.        ],\n",
       "       [0.        , 0.94117647, 0.05882353],\n",
       "       [1.        , 0.        , 0.        ],\n",
       "       [0.        , 0.76470588, 0.23529412],\n",
       "       [1.        , 0.        , 0.        ],\n",
       "       [0.        , 0.52941176, 0.47058824],\n",
       "       [0.        , 0.82352941, 0.17647059],\n",
       "       [1.        , 0.        , 0.        ],\n",
       "       [0.        , 0.41176471, 0.58823529],\n",
       "       [0.        , 0.23529412, 0.76470588],\n",
       "       [0.        , 0.05882353, 0.94117647],\n",
       "       [0.        , 1.        , 0.        ],\n",
       "       [0.        , 0.05882353, 0.94117647]])"
      ]
     },
     "execution_count": 10,
     "metadata": {},
     "output_type": "execute_result"
    }
   ],
   "source": [
    "%time clf.predict_proba(X_test)"
   ]
  },
  {
   "cell_type": "code",
   "execution_count": 11,
   "metadata": {},
   "outputs": [
    {
     "name": "stdout",
     "output_type": "stream",
     "text": [
      "[[0.         0.         1.        ]\n",
      " [1.         0.         0.        ]\n",
      " [1.         0.         0.        ]\n",
      " [0.         0.94117647 0.05882353]\n",
      " [1.         0.         0.        ]\n",
      " [0.         0.76470588 0.23529412]\n",
      " [1.         0.         0.        ]\n",
      " [0.         0.52941176 0.47058824]\n",
      " [0.         0.88235294 0.11764706]\n",
      " [1.         0.         0.        ]\n",
      " [0.         0.41176471 0.58823529]\n",
      " [0.         0.23529412 0.76470588]\n",
      " [0.         0.05882353 0.94117647]\n",
      " [0.         1.         0.        ]\n",
      " [0.         0.05882353 0.94117647]]\n",
      "CPU times: user 3.79 ms, sys: 0 ns, total: 3.79 ms\n",
      "Wall time: 3.23 ms\n"
     ]
    }
   ],
   "source": [
    "%time my_clf.predict_proba(X_test)"
   ]
  },
  {
   "cell_type": "code",
   "execution_count": 12,
   "metadata": {},
   "outputs": [
    {
     "data": {
      "text/plain": [
       "1.0"
      ]
     },
     "execution_count": 12,
     "metadata": {},
     "output_type": "execute_result"
    }
   ],
   "source": [
    "clf.score(X_test, y_test)"
   ]
  },
  {
   "cell_type": "code",
   "execution_count": 13,
   "metadata": {},
   "outputs": [
    {
     "data": {
      "text/plain": [
       "1.0"
      ]
     },
     "execution_count": 13,
     "metadata": {},
     "output_type": "execute_result"
    }
   ],
   "source": [
    "my_clf.score(X_test, y_test)"
   ]
  },
  {
   "cell_type": "code",
   "execution_count": 14,
   "metadata": {},
   "outputs": [
    {
     "name": "stdout",
     "output_type": "stream",
     "text": [
      "15\n"
     ]
    },
    {
     "data": {
      "image/png": "[encoded data removed]",
      "text/plain": [
       "<Figure size 432x288 with 1 Axes>"
      ]
     },
     "metadata": {},
     "output_type": "display_data"
    }
   ],
   "source": [
    "res = np.zeros(100)\n",
    "for k in range(1000):\n",
    "    X_train, X_test, y_train, y_test = train_test_split(iris.data, iris.target, test_size=0.1, stratify=iris.target)\n",
    "    for i in range(1,100):\n",
    "        my_clf.setneigh(i)\n",
    "        my_clf.fit(X_train, y_train)\n",
    "        res[i] +=  my_clf.score(X_test, y_test)\n",
    "s = pd.Series(res / 1000)\n",
    "ax = s.plot()\n",
    "print(np.argmax(res))"
   ]
  },
  {
   "cell_type": "markdown",
   "metadata": {},
   "source": [
    "Задание 3"
   ]
  },
  {
   "cell_type": "code",
   "execution_count": null,
   "metadata": {},
   "outputs": [],
   "source": []
  },
  {
   "cell_type": "markdown",
   "metadata": {},
   "source": [
    "**MNIST**"
   ]
  },
  {
   "cell_type": "code",
   "execution_count": 15,
   "metadata": {},
   "outputs": [],
   "source": [
    "mnist = fetch_mldata('MNIST original')"
   ]
  },
  {
   "cell_type": "code",
   "execution_count": 16,
   "metadata": {},
   "outputs": [],
   "source": [
    "X_train, X_test, y_train, y_test = train_test_split(mnist.data, mnist.target, test_size=0.01, stratify=mnist.target)"
   ]
  },
  {
   "cell_type": "code",
   "execution_count": 17,
   "metadata": {},
   "outputs": [],
   "source": [
    "clf = KNeighborsClassifier(n_neighbors=3)\n",
    "my_clf = MyKNeighborsClassifier(n_neighbors=3)"
   ]
  },
  {
   "cell_type": "code",
   "execution_count": 18,
   "metadata": {
    "scrolled": true
   },
   "outputs": [
    {
     "name": "stdout",
     "output_type": "stream",
     "text": [
      "CPU times: user 42.3 s, sys: 248 ms, total: 42.5 s\n",
      "Wall time: 42.5 s\n"
     ]
    },
    {
     "data": {
      "text/plain": [
       "KNeighborsClassifier(algorithm='auto', leaf_size=30, metric='minkowski',\n",
       "           metric_params=None, n_jobs=1, n_neighbors=3, p=2,\n",
       "           weights='uniform')"
      ]
     },
     "execution_count": 18,
     "metadata": {},
     "output_type": "execute_result"
    }
   ],
   "source": [
    "%time clf.fit(X_train, y_train)"
   ]
  },
  {
   "cell_type": "code",
   "execution_count": 19,
   "metadata": {},
   "outputs": [
    {
     "name": "stdout",
     "output_type": "stream",
     "text": [
      "CPU times: user 265 ms, sys: 156 ms, total: 421 ms\n",
      "Wall time: 233 ms\n"
     ]
    }
   ],
   "source": [
    "%time my_clf.fit(X_train, y_train)"
   ]
  },
  {
   "cell_type": "code",
   "execution_count": 20,
   "metadata": {},
   "outputs": [
    {
     "name": "stdout",
     "output_type": "stream",
     "text": [
      "CPU times: user 1min 20s, sys: 3.78 ms, total: 1min 20s\n",
      "Wall time: 1min 20s\n"
     ]
    },
    {
     "data": {
      "text/plain": [
       "array([9., 1., 1., 2., 6., 2., 6., 6., 0., 7., 9., 3., 7., 0., 8., 7., 0.,\n",
       "       5., 5., 5., 2., 9., 0., 0., 3., 1., 3., 3., 5., 2., 1., 3., 0., 7.,\n",
       "       7., 2., 9., 2., 7., 4., 5., 0., 7., 9., 1., 4., 1., 8., 3., 3., 4.,\n",
       "       2., 1., 7., 9., 6., 0., 1., 3., 1., 7., 9., 6., 3., 5., 0., 6., 0.,\n",
       "       3., 9., 9., 1., 1., 3., 1., 8., 2., 3., 1., 4., 0., 3., 3., 1., 2.,\n",
       "       0., 1., 2., 9., 8., 1., 1., 4., 6., 1., 6., 2., 4., 7., 8., 0., 0.,\n",
       "       6., 9., 8., 2., 0., 8., 4., 8., 8., 4., 7., 3., 4., 1., 0., 6., 9.,\n",
       "       3., 2., 3., 7., 7., 1., 9., 8., 8., 3., 0., 4., 9., 7., 7., 9., 1.,\n",
       "       1., 2., 0., 1., 7., 0., 1., 2., 0., 2., 8., 7., 9., 9., 9., 2., 6.,\n",
       "       4., 7., 6., 4., 7., 8., 7., 3., 1., 1., 8., 8., 3., 1., 4., 2., 6.,\n",
       "       5., 3., 5., 9., 8., 9., 7., 4., 9., 4., 0., 5., 4., 1., 9., 2., 1.,\n",
       "       7., 4., 0., 7., 3., 8., 9., 2., 1., 5., 2., 2., 6., 0., 4., 4., 3.,\n",
       "       4., 4., 3., 7., 1., 6., 9., 1., 9., 3., 5., 8., 4., 1., 9., 5., 2.,\n",
       "       4., 4., 3., 2., 7., 4., 6., 3., 9., 0., 4., 9., 0., 5., 1., 4., 1.,\n",
       "       2., 0., 6., 5., 5., 5., 1., 5., 5., 6., 5., 4., 7., 7., 9., 1., 4.,\n",
       "       2., 7., 7., 4., 9., 0., 1., 5., 1., 3., 1., 3., 1., 9., 3., 1., 3.,\n",
       "       3., 5., 9., 3., 2., 9., 2., 6., 9., 5., 6., 3., 0., 5., 5., 1., 7.,\n",
       "       9., 7., 9., 2., 8., 5., 9., 0., 3., 7., 0., 5., 4., 1., 2., 1., 3.,\n",
       "       0., 0., 1., 1., 9., 4., 7., 0., 7., 2., 4., 8., 7., 3., 3., 4., 5.,\n",
       "       3., 8., 3., 9., 8., 8., 7., 7., 0., 2., 0., 1., 6., 3., 2., 9., 3.,\n",
       "       4., 6., 2., 6., 7., 3., 2., 7., 6., 0., 2., 3., 8., 6., 9., 5., 6.,\n",
       "       4., 0., 3., 5., 6., 8., 6., 1., 7., 6., 3., 9., 4., 4., 5., 0., 0.,\n",
       "       0., 8., 1., 5., 7., 4., 0., 1., 5., 4., 8., 6., 3., 3., 1., 8., 0.,\n",
       "       2., 3., 8., 5., 5., 0., 3., 0., 6., 5., 6., 8., 7., 6., 8., 6., 2.,\n",
       "       5., 9., 3., 5., 4., 6., 0., 0., 0., 8., 6., 4., 9., 9., 2., 2., 1.,\n",
       "       8., 1., 5., 1., 2., 4., 7., 2., 3., 6., 9., 8., 0., 6., 1., 0., 1.,\n",
       "       0., 5., 7., 9., 5., 9., 3., 6., 9., 8., 5., 8., 1., 4., 8., 2., 8.,\n",
       "       4., 0., 9., 7., 9., 8., 4., 4., 4., 8., 0., 0., 7., 4., 7., 5., 6.,\n",
       "       6., 1., 7., 2., 3., 3., 7., 4., 0., 0., 8., 4., 4., 9., 0., 7., 6.,\n",
       "       7., 1., 0., 2., 8., 8., 3., 6., 3., 5., 0., 5., 9., 6., 2., 8., 2.,\n",
       "       3., 5., 6., 2., 3., 5., 6., 8., 4., 9., 5., 7., 6., 9., 9., 6., 0.,\n",
       "       4., 9., 7., 9., 8., 8., 7., 2., 1., 7., 4., 2., 7., 1., 2., 6., 6.,\n",
       "       4., 7., 1., 8., 7., 8., 8., 2., 2., 3., 1., 5., 2., 1., 7., 3., 1.,\n",
       "       6., 9., 7., 2., 8., 4., 3., 6., 9., 6., 1., 1., 2., 1., 8., 0., 6.,\n",
       "       7., 9., 7., 3., 2., 1., 0., 6., 2., 8., 9., 2., 7., 6., 7., 6., 4.,\n",
       "       9., 6., 3., 5., 9., 7., 1., 3., 5., 9., 5., 5., 6., 6., 0., 2., 3.,\n",
       "       8., 4., 1., 9., 9., 5., 2., 5., 0., 6., 8., 7., 4., 6., 7., 8., 4.,\n",
       "       1., 0., 0., 3., 8., 6., 7., 9., 3., 4., 8., 4., 8., 8., 1., 2., 2.,\n",
       "       5., 0., 8., 8., 3., 6., 4., 6., 5., 7., 9., 9., 6., 5., 0., 9., 9.,\n",
       "       7., 0., 4., 0., 8., 9., 4., 7., 2., 4., 1., 5., 6., 8., 9., 9., 3.,\n",
       "       0., 2., 9., 2., 5., 1., 1., 9., 2., 9., 5., 5., 5., 0., 1., 6., 1.,\n",
       "       2., 2., 6.])"
      ]
     },
     "execution_count": 20,
     "metadata": {},
     "output_type": "execute_result"
    }
   ],
   "source": [
    "%time clf.predict(X_test)"
   ]
  },
  {
   "cell_type": "code",
   "execution_count": 21,
   "metadata": {},
   "outputs": [
    {
     "name": "stdout",
     "output_type": "stream",
     "text": [
      "CPU times: user 3.35 s, sys: 512 ms, total: 3.86 s\n",
      "Wall time: 2.48 s\n"
     ]
    },
    {
     "data": {
      "text/plain": [
       "array([9., 1., 1., 2., 6., 2., 6., 6., 0., 7., 9., 3., 7., 0., 8., 7., 0.,\n",
       "       5., 5., 5., 2., 9., 0., 0., 3., 1., 3., 3., 5., 2., 1., 3., 0., 7.,\n",
       "       7., 2., 9., 2., 7., 4., 5., 0., 7., 9., 1., 4., 1., 8., 3., 3., 4.,\n",
       "       2., 1., 7., 9., 6., 0., 1., 3., 1., 7., 9., 6., 3., 5., 0., 6., 0.,\n",
       "       3., 9., 9., 1., 1., 3., 1., 8., 2., 3., 1., 4., 0., 3., 3., 1., 2.,\n",
       "       0., 1., 2., 9., 8., 1., 1., 4., 6., 1., 6., 2., 4., 7., 8., 0., 0.,\n",
       "       6., 9., 8., 2., 0., 8., 4., 8., 8., 4., 7., 3., 4., 1., 0., 6., 9.,\n",
       "       3., 2., 3., 7., 7., 1., 9., 8., 8., 3., 0., 4., 9., 7., 7., 9., 1.,\n",
       "       1., 2., 0., 1., 7., 0., 1., 2., 0., 2., 8., 7., 9., 9., 9., 2., 6.,\n",
       "       4., 7., 6., 4., 7., 8., 7., 3., 1., 1., 8., 8., 3., 1., 4., 2., 6.,\n",
       "       5., 3., 5., 9., 8., 9., 7., 4., 9., 4., 0., 5., 4., 1., 9., 2., 1.,\n",
       "       7., 4., 0., 7., 3., 8., 9., 2., 1., 5., 2., 2., 6., 0., 4., 4., 3.,\n",
       "       4., 4., 3., 7., 1., 6., 9., 1., 9., 3., 5., 8., 4., 1., 9., 5., 2.,\n",
       "       4., 4., 3., 2., 7., 4., 6., 3., 9., 0., 4., 9., 0., 5., 1., 4., 1.,\n",
       "       2., 0., 6., 5., 5., 5., 1., 5., 5., 6., 5., 4., 7., 7., 9., 1., 4.,\n",
       "       2., 7., 7., 4., 9., 0., 1., 5., 1., 3., 1., 3., 1., 9., 3., 1., 3.,\n",
       "       3., 5., 9., 3., 2., 9., 2., 6., 9., 5., 6., 3., 0., 5., 5., 1., 7.,\n",
       "       9., 7., 9., 2., 8., 5., 9., 0., 3., 7., 0., 5., 4., 1., 2., 1., 3.,\n",
       "       0., 0., 1., 1., 9., 4., 7., 0., 7., 2., 4., 8., 7., 3., 3., 4., 5.,\n",
       "       3., 8., 3., 9., 8., 8., 7., 7., 0., 2., 0., 1., 6., 3., 2., 9., 3.,\n",
       "       4., 6., 2., 6., 7., 3., 2., 7., 6., 0., 2., 3., 8., 6., 9., 5., 6.,\n",
       "       4., 0., 3., 5., 6., 8., 6., 1., 7., 6., 3., 9., 4., 4., 5., 0., 0.,\n",
       "       0., 8., 1., 5., 7., 4., 0., 1., 5., 4., 8., 6., 3., 3., 1., 8., 0.,\n",
       "       2., 3., 8., 5., 5., 0., 3., 0., 6., 5., 6., 8., 7., 6., 8., 6., 2.,\n",
       "       5., 9., 3., 5., 8., 6., 0., 0., 0., 8., 6., 4., 9., 9., 2., 2., 1.,\n",
       "       8., 1., 5., 1., 2., 4., 7., 2., 3., 6., 9., 8., 0., 6., 1., 0., 1.,\n",
       "       0., 5., 7., 9., 5., 9., 3., 6., 9., 8., 5., 8., 1., 4., 8., 2., 8.,\n",
       "       4., 0., 9., 7., 9., 8., 4., 4., 4., 8., 0., 0., 7., 4., 7., 5., 6.,\n",
       "       6., 1., 7., 2., 3., 3., 7., 4., 0., 0., 8., 4., 4., 9., 0., 7., 6.,\n",
       "       7., 1., 0., 2., 8., 8., 3., 6., 3., 5., 0., 5., 9., 6., 2., 8., 2.,\n",
       "       3., 5., 6., 2., 3., 5., 6., 8., 4., 9., 5., 7., 6., 9., 9., 6., 0.,\n",
       "       4., 9., 7., 9., 8., 8., 7., 2., 1., 7., 4., 2., 7., 1., 2., 6., 6.,\n",
       "       4., 7., 1., 8., 7., 8., 8., 2., 2., 3., 1., 5., 2., 1., 7., 3., 1.,\n",
       "       6., 9., 7., 2., 8., 4., 3., 6., 9., 6., 1., 1., 2., 1., 8., 0., 6.,\n",
       "       7., 9., 7., 3., 2., 1., 0., 6., 2., 8., 9., 2., 7., 6., 7., 6., 4.,\n",
       "       9., 6., 3., 5., 9., 7., 1., 3., 5., 9., 5., 5., 6., 6., 0., 2., 3.,\n",
       "       8., 4., 1., 9., 9., 5., 2., 5., 0., 6., 8., 7., 4., 6., 7., 8., 4.,\n",
       "       1., 0., 0., 3., 8., 6., 7., 9., 3., 4., 8., 4., 8., 8., 1., 2., 2.,\n",
       "       5., 0., 8., 8., 3., 6., 4., 6., 5., 7., 9., 9., 6., 5., 0., 9., 9.,\n",
       "       7., 0., 4., 0., 8., 9., 4., 7., 2., 4., 1., 5., 6., 8., 9., 9., 3.,\n",
       "       0., 2., 9., 2., 5., 1., 1., 9., 2., 9., 5., 5., 5., 0., 1., 6., 1.,\n",
       "       2., 2., 6.])"
      ]
     },
     "execution_count": 21,
     "metadata": {},
     "output_type": "execute_result"
    }
   ],
   "source": [
    "%time my_clf.predict(X_test)"
   ]
  },
  {
   "cell_type": "code",
   "execution_count": 22,
   "metadata": {},
   "outputs": [
    {
     "name": "stdout",
     "output_type": "stream",
     "text": [
      "CPU times: user 1min 22s, sys: 11.8 ms, total: 1min 22s\n",
      "Wall time: 1min 22s\n"
     ]
    },
    {
     "data": {
      "text/plain": [
       "array([[0., 0., 0., ..., 0., 0., 1.],\n",
       "       [0., 1., 0., ..., 0., 0., 0.],\n",
       "       [0., 1., 0., ..., 0., 0., 0.],\n",
       "       ...,\n",
       "       [0., 0., 1., ..., 0., 0., 0.],\n",
       "       [0., 0., 1., ..., 0., 0., 0.],\n",
       "       [0., 0., 0., ..., 0., 0., 0.]])"
      ]
     },
     "execution_count": 22,
     "metadata": {},
     "output_type": "execute_result"
    }
   ],
   "source": [
    "%time clf.predict_proba(X_test)"
   ]
  },
  {
   "cell_type": "code",
   "execution_count": 23,
   "metadata": {},
   "outputs": [
    {
     "name": "stdout",
     "output_type": "stream",
     "text": [
      "[[0. 0. 0. ... 0. 0. 1.]\n",
      " [0. 1. 0. ... 0. 0. 0.]\n",
      " [0. 1. 0. ... 0. 0. 0.]\n",
      " ...\n",
      " [0. 0. 1. ... 0. 0. 0.]\n",
      " [0. 0. 1. ... 0. 0. 0.]\n",
      " [0. 0. 0. ... 0. 0. 0.]]\n",
      "CPU times: user 3.47 s, sys: 572 ms, total: 4.04 s\n",
      "Wall time: 2.6 s\n"
     ]
    }
   ],
   "source": [
    "%time my_clf.predict_proba(X_test)"
   ]
  },
  {
   "cell_type": "code",
   "execution_count": 24,
   "metadata": {},
   "outputs": [
    {
     "data": {
      "text/plain": [
       "0.9757142857142858"
      ]
     },
     "execution_count": 24,
     "metadata": {},
     "output_type": "execute_result"
    }
   ],
   "source": [
    "clf.score(X_test, y_test)"
   ]
  },
  {
   "cell_type": "code",
   "execution_count": 25,
   "metadata": {},
   "outputs": [
    {
     "data": {
      "text/plain": [
       "0.9771428571428571"
      ]
     },
     "execution_count": 25,
     "metadata": {},
     "output_type": "execute_result"
    }
   ],
   "source": [
    "my_clf.score(X_test, y_test)"
   ]
  },
  {
   "cell_type": "markdown",
   "metadata": {},
   "source": [
    "Задание 4"
   ]
  },
  {
   "cell_type": "code",
   "execution_count": 26,
   "metadata": {},
   "outputs": [],
   "source": [
    "clf = KNeighborsClassifier(n_neighbors=2, algorithm='kd_tree')\n",
    "my_clf = MyKNeighborsClassifier(n_neighbors=2, algorithm='kd_tree')"
   ]
  },
  {
   "cell_type": "code",
   "execution_count": 27,
   "metadata": {},
   "outputs": [],
   "source": [
    "X_train, X_test, y_train, y_test = train_test_split(mnist.data, mnist.target, test_size=0.01, stratify=mnist.target)"
   ]
  },
  {
   "cell_type": "code",
   "execution_count": 28,
   "metadata": {},
   "outputs": [
    {
     "name": "stdout",
     "output_type": "stream",
     "text": [
      "CPU times: user 44.5 s, sys: 220 ms, total: 44.8 s\n",
      "Wall time: 44.7 s\n"
     ]
    },
    {
     "data": {
      "text/plain": [
       "KNeighborsClassifier(algorithm='kd_tree', leaf_size=30, metric='minkowski',\n",
       "           metric_params=None, n_jobs=1, n_neighbors=2, p=2,\n",
       "           weights='uniform')"
      ]
     },
     "execution_count": 28,
     "metadata": {},
     "output_type": "execute_result"
    }
   ],
   "source": [
    "%time clf.fit(X_train, y_train)"
   ]
  },
  {
   "cell_type": "code",
   "execution_count": 29,
   "metadata": {},
   "outputs": [
    {
     "name": "stdout",
     "output_type": "stream",
     "text": [
      "CPU times: user 41.4 s, sys: 252 ms, total: 41.6 s\n",
      "Wall time: 41.5 s\n"
     ]
    }
   ],
   "source": [
    "%time my_clf.fit(X_train, y_train)"
   ]
  },
  {
   "cell_type": "code",
   "execution_count": 30,
   "metadata": {},
   "outputs": [
    {
     "name": "stdout",
     "output_type": "stream",
     "text": [
      "CPU times: user 1min 22s, sys: 7.86 ms, total: 1min 22s\n",
      "Wall time: 1min 22s\n"
     ]
    },
    {
     "data": {
      "text/plain": [
       "array([8., 0., 7., 3., 8., 3., 4., 2., 7., 4., 8., 6., 2., 1., 1., 9., 8.,\n",
       "       2., 0., 6., 1., 2., 4., 4., 5., 2., 8., 9., 2., 5., 2., 4., 0., 0.,\n",
       "       5., 2., 6., 7., 3., 4., 4., 4., 0., 7., 4., 5., 3., 9., 6., 1., 2.,\n",
       "       0., 1., 0., 3., 5., 1., 2., 1., 4., 8., 8., 3., 3., 4., 4., 5., 4.,\n",
       "       6., 1., 3., 0., 7., 9., 4., 3., 7., 1., 5., 6., 0., 5., 7., 5., 5.,\n",
       "       5., 3., 4., 6., 9., 9., 1., 3., 2., 4., 7., 1., 7., 8., 6., 1., 9.,\n",
       "       6., 7., 6., 7., 5., 5., 9., 7., 8., 6., 3., 6., 7., 0., 0., 2., 2.,\n",
       "       7., 0., 4., 3., 9., 0., 9., 0., 8., 6., 0., 3., 1., 5., 6., 6., 2.,\n",
       "       8., 5., 6., 7., 1., 0., 6., 8., 6., 5., 7., 6., 7., 6., 7., 7., 9.,\n",
       "       6., 2., 4., 2., 3., 7., 1., 5., 7., 1., 2., 4., 1., 9., 4., 7., 9.,\n",
       "       2., 8., 8., 5., 2., 9., 1., 2., 0., 8., 6., 2., 7., 5., 5., 2., 2.,\n",
       "       5., 7., 8., 6., 5., 5., 3., 9., 4., 9., 7., 1., 4., 7., 0., 8., 4.,\n",
       "       9., 1., 4., 7., 9., 8., 3., 6., 1., 3., 8., 7., 5., 7., 0., 3., 8.,\n",
       "       0., 5., 7., 4., 7., 5., 5., 2., 5., 5., 1., 4., 1., 2., 4., 0., 5.,\n",
       "       9., 1., 3., 1., 7., 7., 8., 0., 5., 7., 6., 7., 6., 8., 1., 7., 9.,\n",
       "       0., 1., 1., 9., 9., 7., 9., 9., 2., 0., 6., 3., 9., 7., 1., 9., 6.,\n",
       "       9., 9., 3., 2., 7., 0., 5., 6., 1., 3., 2., 3., 1., 0., 3., 3., 5.,\n",
       "       4., 1., 3., 8., 4., 6., 0., 1., 0., 1., 5., 8., 9., 8., 6., 0., 2.,\n",
       "       7., 5., 7., 1., 5., 4., 5., 0., 1., 7., 2., 0., 0., 8., 8., 8., 4.,\n",
       "       6., 7., 3., 4., 4., 9., 0., 3., 1., 7., 3., 0., 4., 0., 3., 9., 3.,\n",
       "       5., 7., 2., 0., 9., 1., 4., 0., 0., 9., 9., 2., 7., 6., 1., 9., 4.,\n",
       "       1., 1., 1., 9., 6., 5., 0., 3., 3., 8., 4., 2., 0., 1., 6., 7., 5.,\n",
       "       2., 6., 6., 7., 8., 7., 2., 0., 3., 2., 3., 0., 5., 7., 4., 6., 1.,\n",
       "       8., 0., 5., 1., 7., 3., 3., 2., 9., 5., 6., 3., 1., 3., 2., 2., 3.,\n",
       "       3., 0., 5., 9., 7., 3., 2., 5., 9., 4., 8., 6., 2., 0., 2., 0., 6.,\n",
       "       3., 7., 2., 1., 1., 6., 9., 8., 8., 0., 3., 1., 1., 2., 4., 8., 4.,\n",
       "       1., 2., 0., 4., 1., 9., 6., 0., 2., 4., 6., 0., 9., 1., 8., 0., 4.,\n",
       "       3., 4., 5., 5., 9., 5., 0., 4., 4., 2., 4., 8., 4., 7., 2., 7., 5.,\n",
       "       4., 3., 3., 2., 7., 9., 6., 1., 6., 9., 9., 6., 0., 8., 9., 5., 3.,\n",
       "       4., 3., 3., 0., 4., 9., 6., 6., 4., 6., 8., 3., 2., 9., 1., 7., 5.,\n",
       "       7., 4., 6., 6., 8., 1., 7., 7., 1., 1., 6., 7., 3., 1., 4., 9., 2.,\n",
       "       8., 4., 3., 3., 7., 2., 9., 2., 9., 6., 3., 1., 0., 1., 0., 4., 6.,\n",
       "       4., 0., 0., 8., 3., 4., 1., 2., 6., 8., 5., 8., 5., 2., 0., 8., 8.,\n",
       "       3., 4., 1., 8., 1., 2., 3., 1., 6., 2., 2., 8., 3., 6., 7., 6., 2.,\n",
       "       7., 8., 3., 9., 3., 4., 1., 9., 0., 7., 7., 4., 4., 2., 6., 3., 7.,\n",
       "       1., 8., 3., 8., 6., 6., 4., 1., 9., 9., 5., 1., 4., 0., 8., 3., 4.,\n",
       "       3., 0., 9., 4., 5., 5., 5., 2., 2., 4., 6., 4., 8., 3., 3., 5., 7.,\n",
       "       9., 1., 3., 4., 1., 9., 1., 5., 2., 1., 8., 4., 9., 0., 2., 1., 6.,\n",
       "       0., 0., 2., 5., 2., 5., 1., 3., 2., 4., 0., 1., 0., 0., 0., 2., 1.,\n",
       "       8., 5., 4., 2., 3., 0., 3., 0., 3., 0., 6., 1., 0., 6., 8., 9., 7.,\n",
       "       4., 8., 8., 1., 1., 3., 2., 9., 8., 8., 4., 7., 6., 2., 8., 0., 0.,\n",
       "       1., 1., 1.])"
      ]
     },
     "execution_count": 30,
     "metadata": {},
     "output_type": "execute_result"
    }
   ],
   "source": [
    "%time clf.predict(X_test)"
   ]
  },
  {
   "cell_type": "code",
   "execution_count": 31,
   "metadata": {},
   "outputs": [
    {
     "name": "stdout",
     "output_type": "stream",
     "text": [
      "CPU times: user 1min 8s, sys: 3.98 ms, total: 1min 8s\n",
      "Wall time: 1min 8s\n"
     ]
    },
    {
     "data": {
      "text/plain": [
       "array([8., 0., 7., 3., 8., 3., 4., 2., 7., 4., 8., 6., 2., 1., 1., 9., 8.,\n",
       "       2., 0., 6., 1., 2., 4., 4., 5., 2., 8., 9., 2., 5., 2., 4., 0., 0.,\n",
       "       5., 2., 6., 7., 3., 4., 4., 9., 5., 7., 4., 5., 3., 9., 6., 1., 2.,\n",
       "       0., 1., 0., 3., 5., 1., 2., 1., 4., 8., 8., 3., 3., 4., 9., 5., 4.,\n",
       "       6., 1., 3., 4., 7., 9., 4., 3., 7., 1., 5., 6., 0., 5., 7., 5., 5.,\n",
       "       5., 3., 4., 6., 9., 9., 1., 3., 2., 4., 7., 7., 7., 8., 6., 1., 9.,\n",
       "       6., 7., 6., 7., 5., 5., 9., 7., 8., 6., 3., 6., 7., 0., 0., 2., 2.,\n",
       "       7., 0., 4., 3., 9., 0., 9., 0., 8., 6., 0., 5., 1., 8., 6., 6., 2.,\n",
       "       8., 5., 6., 7., 1., 0., 6., 8., 6., 5., 7., 6., 7., 6., 7., 7., 9.,\n",
       "       6., 2., 4., 2., 3., 7., 1., 5., 7., 1., 2., 7., 1., 9., 4., 7., 9.,\n",
       "       2., 8., 8., 5., 2., 9., 1., 2., 0., 8., 6., 2., 9., 5., 5., 2., 2.,\n",
       "       5., 7., 8., 6., 5., 5., 3., 9., 4., 9., 7., 1., 4., 7., 0., 8., 4.,\n",
       "       9., 1., 4., 7., 9., 8., 3., 6., 1., 3., 8., 7., 5., 7., 0., 3., 8.,\n",
       "       0., 5., 7., 4., 7., 5., 5., 2., 5., 5., 1., 4., 1., 2., 4., 0., 5.,\n",
       "       9., 1., 3., 1., 7., 7., 8., 0., 5., 7., 6., 7., 6., 8., 1., 7., 9.,\n",
       "       0., 1., 1., 9., 9., 7., 9., 9., 2., 0., 6., 3., 9., 7., 1., 9., 6.,\n",
       "       9., 9., 3., 2., 7., 0., 6., 6., 1., 8., 2., 3., 1., 0., 3., 3., 5.,\n",
       "       4., 1., 3., 8., 4., 6., 0., 1., 0., 1., 5., 8., 9., 8., 6., 0., 7.,\n",
       "       7., 5., 7., 1., 5., 4., 5., 0., 1., 7., 2., 0., 0., 8., 8., 8., 4.,\n",
       "       6., 7., 3., 4., 9., 9., 8., 3., 1., 7., 3., 0., 4., 0., 3., 9., 3.,\n",
       "       5., 7., 2., 0., 9., 1., 9., 0., 0., 9., 9., 2., 7., 6., 1., 9., 4.,\n",
       "       1., 1., 1., 9., 6., 5., 0., 3., 3., 8., 4., 2., 0., 1., 6., 7., 5.,\n",
       "       2., 6., 6., 7., 8., 7., 2., 0., 3., 2., 3., 0., 5., 7., 4., 6., 1.,\n",
       "       8., 0., 5., 1., 7., 3., 3., 2., 9., 5., 6., 3., 1., 3., 2., 2., 3.,\n",
       "       3., 0., 5., 9., 7., 5., 2., 5., 9., 4., 8., 6., 2., 0., 2., 0., 6.,\n",
       "       3., 7., 2., 1., 1., 6., 9., 8., 8., 0., 3., 1., 1., 2., 4., 8., 4.,\n",
       "       1., 2., 0., 4., 1., 9., 6., 0., 2., 9., 6., 0., 9., 1., 8., 0., 4.,\n",
       "       7., 4., 5., 5., 9., 5., 0., 4., 4., 2., 4., 8., 4., 7., 2., 7., 5.,\n",
       "       4., 3., 3., 2., 7., 9., 6., 1., 6., 9., 9., 6., 0., 8., 9., 5., 3.,\n",
       "       4., 3., 3., 0., 4., 9., 6., 6., 4., 6., 8., 3., 2., 9., 1., 7., 5.,\n",
       "       7., 4., 6., 6., 8., 1., 7., 7., 1., 1., 6., 7., 3., 1., 4., 9., 2.,\n",
       "       8., 4., 3., 3., 7., 2., 9., 2., 9., 6., 3., 1., 0., 1., 0., 9., 6.,\n",
       "       4., 0., 0., 8., 3., 4., 1., 2., 6., 8., 5., 8., 5., 2., 0., 8., 8.,\n",
       "       3., 4., 1., 8., 1., 2., 3., 1., 6., 2., 2., 8., 3., 6., 7., 6., 2.,\n",
       "       7., 8., 3., 9., 3., 4., 1., 9., 0., 7., 7., 4., 4., 2., 6., 3., 7.,\n",
       "       1., 8., 3., 8., 6., 6., 4., 1., 9., 9., 8., 1., 4., 0., 8., 3., 4.,\n",
       "       3., 0., 9., 4., 5., 5., 5., 2., 2., 4., 6., 4., 8., 3., 3., 5., 7.,\n",
       "       9., 1., 3., 4., 1., 9., 2., 5., 2., 1., 8., 4., 9., 0., 2., 1., 6.,\n",
       "       0., 0., 2., 5., 2., 5., 1., 3., 2., 9., 0., 1., 0., 0., 0., 2., 1.,\n",
       "       8., 5., 4., 2., 3., 0., 3., 0., 3., 0., 6., 1., 0., 6., 8., 9., 7.,\n",
       "       4., 8., 8., 1., 1., 3., 2., 9., 8., 8., 4., 7., 6., 2., 8., 0., 0.,\n",
       "       1., 1., 1.])"
      ]
     },
     "execution_count": 31,
     "metadata": {},
     "output_type": "execute_result"
    }
   ],
   "source": [
    "%time my_clf.predict(X_test)"
   ]
  },
  {
   "cell_type": "code",
   "execution_count": 32,
   "metadata": {},
   "outputs": [
    {
     "name": "stdout",
     "output_type": "stream",
     "text": [
      "CPU times: user 1min 22s, sys: 11.9 ms, total: 1min 22s\n",
      "Wall time: 1min 22s\n"
     ]
    },
    {
     "data": {
      "text/plain": [
       "array([[0., 0., 0., ..., 0., 1., 0.],\n",
       "       [1., 0., 0., ..., 0., 0., 0.],\n",
       "       [0., 0., 0., ..., 1., 0., 0.],\n",
       "       ...,\n",
       "       [0., 1., 0., ..., 0., 0., 0.],\n",
       "       [0., 1., 0., ..., 0., 0., 0.],\n",
       "       [0., 1., 0., ..., 0., 0., 0.]])"
      ]
     },
     "execution_count": 32,
     "metadata": {},
     "output_type": "execute_result"
    }
   ],
   "source": [
    "%time clf.predict_proba(X_test)"
   ]
  },
  {
   "cell_type": "code",
   "execution_count": 33,
   "metadata": {},
   "outputs": [
    {
     "name": "stdout",
     "output_type": "stream",
     "text": [
      "[[0. 0. 0. ... 0. 1. 0.]\n",
      " [1. 0. 0. ... 0. 0. 0.]\n",
      " [0. 0. 0. ... 1. 0. 0.]\n",
      " ...\n",
      " [0. 1. 0. ... 0. 0. 0.]\n",
      " [0. 1. 0. ... 0. 0. 0.]\n",
      " [0. 1. 0. ... 0. 0. 0.]]\n",
      "CPU times: user 1min 7s, sys: 3.92 ms, total: 1min 7s\n",
      "Wall time: 1min 7s\n"
     ]
    }
   ],
   "source": [
    "%time my_clf.predict_proba(X_test)"
   ]
  },
  {
   "cell_type": "code",
   "execution_count": 34,
   "metadata": {},
   "outputs": [
    {
     "data": {
      "text/plain": [
       "0.9528571428571428"
      ]
     },
     "execution_count": 34,
     "metadata": {},
     "output_type": "execute_result"
    }
   ],
   "source": [
    "clf.score(X_test, y_test)"
   ]
  },
  {
   "cell_type": "code",
   "execution_count": 35,
   "metadata": {},
   "outputs": [
    {
     "data": {
      "text/plain": [
       "0.9671428571428572"
      ]
     },
     "execution_count": 35,
     "metadata": {},
     "output_type": "execute_result"
    }
   ],
   "source": [
    "my_clf.score(X_test, y_test)"
   ]
  },
  {
   "cell_type": "markdown",
   "metadata": {},
   "source": [
    "Задание 5"
   ]
  },
  {
   "cell_type": "code",
   "execution_count": 36,
   "metadata": {},
   "outputs": [],
   "source": [
    "# seaborn - улучшает внешний вид графиков matplolib \n",
    "# matplotlib - построение графков и диаграмм\n",
    "# train_test_split -  разбивает данные на две выборки(тестовую и обучающую)\n",
    "# Pipelin%load_ext e (from sklearn.pipeline import Pipeline) - ковеейр в который должны поступать данные для обработки(стандартизации нормалзации и тд)\n",
    "# StandardScaler (from sklearn.preprocessing import StandardScaler) изменяет значаение элеметов выборки так чтобы МО было 0, а std 1 \n",
    "# ClassifierMixin - родительский класс классификаторов в scikit-learn\n",
    "# NeighborsBase - проверяет параметры алгоритма или подбирает их в случае auto и возращает нужные методы \n",
    "# KNeighborsMixin - содержит реализацию алгоритма поиска соседей\n",
    "# SupervisedIntegerMixin -  проверяет параметры и вызывает нужную функцию fit"
   ]
  }
 ],
 "metadata": {
  "kernelspec": {
   "display_name": "Python 3",
   "language": "python",
   "name": "python3"
  },
  "language_info": {
   "codemirror_mode": {
    "name": "ipython",
    "version": 3
   },
   "file_extension": ".py",
   "mimetype": "text/x-python",
   "name": "python",
   "nbconvert_exporter": "python",
   "pygments_lexer": "ipython3",
   "version": "3.6.5"
  }
 },
 "nbformat": 4,
 "nbformat_minor": 2
}
